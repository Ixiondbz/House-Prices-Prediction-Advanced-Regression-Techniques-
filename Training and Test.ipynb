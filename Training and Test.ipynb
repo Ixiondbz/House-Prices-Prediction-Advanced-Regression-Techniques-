{
 "cells": [
  {
   "cell_type": "code",
   "execution_count": 1,
   "id": "2f27784a-ef16-4a38-b875-0aa1b7a58914",
   "metadata": {},
   "outputs": [],
   "source": [
    "import numpy as np\n",
    "import matplotlib.pyplot as plt\n",
    "import pandas as pd\n",
    "import seaborn as sns"
   ]
  },
  {
   "cell_type": "code",
   "execution_count": null,
   "id": "8b86dc78-12db-4036-aa57-04d8748be543",
   "metadata": {},
   "outputs": [],
   "source": [
    "df = pd.read_csv(\"train_numerical.csv\")"
   ]
  }
 ],
 "metadata": {
  "kernelspec": {
   "display_name": "Python 3 (ipykernel)",
   "language": "python",
   "name": "python3"
  },
  "language_info": {
   "codemirror_mode": {
    "name": "ipython",
    "version": 3
   },
   "file_extension": ".py",
   "mimetype": "text/x-python",
   "name": "python",
   "nbconvert_exporter": "python",
   "pygments_lexer": "ipython3",
   "version": "3.9.6"
  }
 },
 "nbformat": 4,
 "nbformat_minor": 5
}
